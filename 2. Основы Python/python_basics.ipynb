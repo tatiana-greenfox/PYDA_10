{
 "cells": [
  {
   "cell_type": "markdown",
   "metadata": {},
   "source": [
    "**Задание 1**. Даны 2 строки: *long_phrase* и *short_phrase*. \n",
    "Напишите код, который проверяет действительно ли длинная фраза *long_phrase* длиннее короткой *short_phrase*. И выводит *True* или *False* в зависимости от результата сравнения."
   ]
  },
  {
   "cell_type": "code",
   "execution_count": 3,
   "metadata": {},
   "outputs": [],
   "source": [
    "long_phrase = 'Насколько проще было бы писать программы, если бы не заказчики'\n",
    "short_phrase = '640Кб должно хватить для любых задач. Билл Гейтс (по легенде)'"
   ]
  },
  {
   "cell_type": "code",
   "execution_count": 6,
   "metadata": {},
   "outputs": [
    {
     "data": {
      "text/plain": [
       "True"
      ]
     },
     "execution_count": 6,
     "metadata": {},
     "output_type": "execute_result"
    }
   ],
   "source": [
    "len(long_phrase) > len(short_phrase)"
   ]
  },
  {
   "cell_type": "code",
   "execution_count": 7,
   "metadata": {},
   "outputs": [
    {
     "data": {
      "text/plain": [
       "False"
      ]
     },
     "execution_count": 7,
     "metadata": {},
     "output_type": "execute_result"
    }
   ],
   "source": [
    "len(long_phrase) < len(short_phrase)"
   ]
  },
  {
   "cell_type": "markdown",
   "metadata": {},
   "source": [
    "**Задание 2**. Дано значение объема файла в байтах (*в мегабайте 2^20 байт*). Напишите перевод этого значения в мегабайты в формате: \"*Объем файла равен 213.68Mb*\"."
   ]
  },
  {
   "cell_type": "code",
   "execution_count": 14,
   "metadata": {},
   "outputs": [
    {
     "name": "stdout",
     "output_type": "stream",
     "text": [
      "Введите размер файла в байтах: 7000\n",
      "Объем файла равен 0.007Mb\n"
     ]
    }
   ],
   "source": [
    "file_size = input('Введите размер файла в байтах: ')\n",
    "file_Mb = int(file_size) * pow(10, -6)\n",
    "print(f\"Объем файла равен {round(file_Mb, 3)}Mb\")"
   ]
  },
  {
   "cell_type": "markdown",
   "metadata": {},
   "source": [
    "**Задание 3**. Разработать приложение для определения знака зодиака по дате рождения. Пример:\n",
    "\n",
    "Введите месяц: март\n",
    "\n",
    "Введите число: 6\n",
    "\n",
    "Вывод:\n",
    "Рыбы"
   ]
  },
  {
   "cell_type": "code",
   "execution_count": 8,
   "metadata": {},
   "outputs": [
    {
     "name": "stdout",
     "output_type": "stream",
     "text": [
      "Введите месяц: март\n",
      "Введите число: 25\n",
      "Овен\n"
     ]
    }
   ],
   "source": [
    "month = input('Введите месяц: ').casefold()\n",
    "day = int(input('Введите число: '))\n",
    "Jan = 'Январь'.casefold()\n",
    "Feb = 'Февраль'.casefold()\n",
    "Mar = 'Март'.casefold()\n",
    "Apr = 'Апрель'.casefold()\n",
    "May = 'Май'.casefold()\n",
    "June = 'Июнь'.casefold()\n",
    "July = 'Июль'.casefold()\n",
    "Aug = 'Август'.casefold()\n",
    "Sept = 'Сентябрь'.casefold()\n",
    "Oct = 'Октябрь'.casefold()\n",
    "Nov = 'Ноябрь'.casefold()\n",
    "Dec = 'Декабрь'.casefold()\n",
    "\n",
    "if (month == Mar and 21 <= day <=31) or (month == Apr and 1 <= day <=20):\n",
    "    print('Овен')\n",
    "elif (month == Apr and 21 <= day <=30) or (month == May and 1 <= day <=20):\n",
    "    print('Телец')    \n",
    "elif (month == May and 21 <= day <=31) or (month == June and 1 <= day <=21):\n",
    "    print('Близнецы')   \n",
    "elif (month == June and 22 <= day <=30) or (month == July and 1 <= day <=22):\n",
    "    print('Рак')  \n",
    "elif (month == July and 23 <= day <=31) or (month == Aug and 1 <= day <=23):\n",
    "    print('Лев')     \n",
    "elif (month == Aug and 24 <= day <=31) or (month == Sept and 1 <= day <=23):\n",
    "    print('Дева')    \n",
    "elif (month == Sept and 24 <= day <=30) or (month == Oct and 1 <= day <=23):\n",
    "    print('Весы')    \n",
    "elif (month == Oct and 24 <= day <=31) or (month == Nov and 1 <= day <=22):\n",
    "    print('Скорпион')    \n",
    "elif (month == Nov and 23 <= day <=30) or (month == Dec and 1 <= day <=21):\n",
    "    print('Стрелец')   \n",
    "elif (month == Dec and 22 <= day <=31) or (month == Jan and 1 <= day <=20):\n",
    "    print('Козерог')     \n",
    "elif (month == Jan and 21 <= day <=31) or (month == Feb and 1 <= day <=20):\n",
    "    print('Водолей')      \n",
    "elif (month == Feb and 21 <= day <=28) or (month == Mar and 1 <= day <=20):\n",
    "    print('Рыбы')    "
   ]
  },
  {
   "cell_type": "markdown",
   "metadata": {},
   "source": [
    "**Задание 4**. Нужно разработать приложение для финансового планирования.\n",
    "Приложение учитывает сколько уходит на ипотеку, \"на жизнь\" и сколько нужно отложить на пенсию.\n",
    "Пользователь вводит:\n",
    "- заработанную плату в месяц.\n",
    "- сколько процентов от ЗП уходит на ипотеку.\n",
    "- сколько процентов от ЗП уходит \"на жизнь\".\n",
    "- сколько раз приходит премия в год.\n",
    "\n",
    "Остальная часть заработанной платы откладывается на пенсию.\n",
    "\n",
    "Также пользователю приходит премия в размере зарплаты, от которой половина уходит на отпуск, а вторая половина откладывается.\n",
    "\n",
    "Программа должна учитывать сколько премий было в год.\n",
    "\n",
    "Нужно вывести сколько денег тратит пользователь на ипотеку и сколько он накопит за год.\n",
    "\n",
    "Пример:\n",
    "\n",
    "Введите заработанную плату в месяц: 100000\n",
    "\n",
    "Введите сколько процентов уходит на ипотеку: 30\n",
    "\n",
    "Введите сколько процентов уходит на жизнь: 50\n",
    "\n",
    "Введите количество премий за год: 2\n",
    "\n",
    "Вывод:\n",
    "На ипотеку было потрачено: 360000 рублей\n",
    "Было накоплено: 340000 рублей"
   ]
  },
  {
   "cell_type": "code",
   "execution_count": 15,
   "metadata": {},
   "outputs": [
    {
     "name": "stdout",
     "output_type": "stream",
     "text": [
      "Введите заработанную плату в месяц: 100000\n",
      "Введите сколько процентов уходит на ипотеку: 30\n",
      "Введите сколько процентов уходит на жизнь: 50\n",
      "Введите количество премий за год: 2\n",
      "На ипотеку было потрачено: 360000\n",
      "Было накоплено: 340000\n"
     ]
    }
   ],
   "source": [
    "salary = int(input('Введите заработанную плату в месяц: '))\n",
    "percent_mortgage = int(input('Введите сколько процентов уходит на ипотеку: '))\n",
    "percent_life = int(input('Введите сколько процентов уходит на жизнь: '))\n",
    "n = int(input('Введите количество премий за год: '))\n",
    "\n",
    "mortgage = (salary * (percent_mortgage / 100)) * 12 #расход на ипотеку в год\n",
    "pension = salary - (salary * (percent_mortgage / 100)) - (salary * (percent_life / 100)) #расход на пенсию в месяц\n",
    "accumulation = pension * 12 + (n * (salary * 0.5)) #накопления\n",
    "\n",
    "print('На ипотеку было потрачено:' , int(mortgage))\n",
    "print('Было накоплено:' , int(accumulation))"
   ]
  },
  {
   "cell_type": "code",
   "execution_count": null,
   "metadata": {},
   "outputs": [],
   "source": []
  }
 ],
 "metadata": {
  "kernelspec": {
   "display_name": "Python 3",
   "language": "python",
   "name": "python3"
  },
  "language_info": {
   "codemirror_mode": {
    "name": "ipython",
    "version": 3
   },
   "file_extension": ".py",
   "mimetype": "text/x-python",
   "name": "python",
   "nbconvert_exporter": "python",
   "pygments_lexer": "ipython3",
   "version": "3.6.5"
  }
 },
 "nbformat": 4,
 "nbformat_minor": 2
}
