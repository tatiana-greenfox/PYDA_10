{
 "cells": [
  {
   "cell_type": "code",
   "execution_count": 1,
   "metadata": {},
   "outputs": [],
   "source": [
    "import re"
   ]
  },
  {
   "cell_type": "markdown",
   "metadata": {},
   "source": [
    "**Задание 1.** Напишите функцию, которая принимает на вход строку и проверяет является ли она валидным транспортным номером. Если да, то функция должна возвращать отдельно номер и регион."
   ]
  },
  {
   "cell_type": "code",
   "execution_count": null,
   "metadata": {},
   "outputs": [],
   "source": [
    "def search_avto_number(text):\n",
    "    pass"
   ]
  },
  {
   "cell_type": "code",
   "execution_count": null,
   "metadata": {},
   "outputs": [],
   "source": [
    "text = input('Введите текст: ')\n",
    "search_avto_number(text)"
   ]
  },
  {
   "cell_type": "markdown",
   "metadata": {},
   "source": [
    "**Задание 2**. Постарайтесь написать (в крайнем случае найти) самый полный шаблон для проверки e-mail адресов через регулярное выражение, которая проверяет e-mail адрес на валидность. Можно руководствоваться следующими минимальными требованиями:\n",
    "* адрес должен содержать специальный символ \"@\", который отделяет имя пользователя почтовой системы от доменного имени;\n",
    "* адрес не должен содержать следующие символы: \"пробел\", \",\", \":\", \";\", \"!\", \"#\", \"%\", \"*\", \"(\", \")\", \"=\", \"+\", \"{\", \"}\", \" \" \", \" ' \", \" / \", \" \\ \" и \"|\";\n",
    "* адрес должен состоять только из латинских символов;\n",
    "* после символа \"@\" должна быть как минимум одна \".\";\n",
    "* после последней точки должно быть не менее 2-х и не более 4-х символов, причем наличие цифр не допускается;\n",
    "* между последней точкой и символом \"@\" должно быть не менее 2-х символов\n",
    "* слева от \"@\" должно быть не менее четырех символов\n",
    "\n",
    "**Примеры**\n",
    "\n",
    "* abuse@rusonyx.ru;    \n",
    "* ip-box@ripn.net; \n",
    "* dvk@css-rzd.ru;  \n",
    "* ip-box@css-rzd.net;  \n",
    "* chernovyi@css.rzd.ru;    \n",
    "* B.Chervakov@transtk.ru;  \n",
    "* ip-dbm-request@ripn.net; \n",
    "* psi@nationalarchives.gsi.gov.uk; \n",
    "* ny@ny.email.gs.com; "
   ]
  },
  {
   "cell_type": "code",
   "execution_count": 59,
   "metadata": {},
   "outputs": [],
   "source": [
    "def search_email(text):\n",
    "    pattern = re.compile(r\"(\\w+[-\\.]?)+@(\\w+-?)+(\\.\\w+)+\")\n",
    "    emails = re.finditer(pattern, text)\n",
    "    \n",
    "    if emails:\n",
    "        for email in emails:\n",
    "            print(email.group())\n",
    "    else:\n",
    "        print('Email не найден!')"
   ]
  },
  {
   "cell_type": "code",
   "execution_count": 61,
   "metadata": {},
   "outputs": [
    {
     "name": "stdout",
     "output_type": "stream",
     "text": [
      "Введите текст: 5\n"
     ]
    }
   ],
   "source": [
    "text = input('Введите текст: ')\n",
    "search_email(text)"
   ]
  },
  {
   "cell_type": "markdown",
   "metadata": {},
   "source": [
    "**Задание 3.** Напишите функцию, которая будет удалять все последовательные повторы слов из заданной строки при помощи регулярных выражений."
   ]
  },
  {
   "cell_type": "code",
   "execution_count": null,
   "metadata": {},
   "outputs": [],
   "source": [
    "def delete_repeat(sequence):\n",
    "    pass"
   ]
  },
  {
   "cell_type": "code",
   "execution_count": null,
   "metadata": {},
   "outputs": [],
   "source": [
    "text = input('Введите текст: ')\n",
    "delete_repeat(sequence)"
   ]
  },
  {
   "cell_type": "markdown",
   "metadata": {},
   "source": [
    "**Задание 4**. Напишите функцию, которая будет проверять номер сотового телефона на валидность, если он валиден, то переводить его в формат:   \n",
    "+7(xxx)-xxx-xx-xx  \n",
    "Постарайтесь предусмотреть как можно больше адекватных форматов изначального ввода номера.\n",
    "Примеры валидных форматов:\n",
    "- +7 955 555-55-55;\n",
    "- 9555555555;\n",
    "- 8(955)555-55-55;\n",
    "- +7 955 555 55 55;\n",
    "- 7(955) 555-55-55;\n",
    "- +7 955+555+55+55."
   ]
  },
  {
   "cell_type": "code",
   "execution_count": 4,
   "metadata": {},
   "outputs": [],
   "source": [
    "def replace_telephone_number(phone_number):\n",
    "\n",
    "    pattern = re.compile(r\"(\\+?7|8)?\\s*\\(?(9\\d{2})[\\)\\-\\+]?\\s*(\\d{3})[\\-\\+\\s]?(\\d{2})[\\-\\+\\s]?(\\d{2})\\s*(\\(?доб\\.\\s*(\\d*)\\)?)?\")\n",
    "    \n",
    "    if phone_number:\n",
    "        if 'доб' not in phone_number:\n",
    "            new_phone_number = pattern.sub(r\"+7(\\2)\\3-\\4-\\5\", phone_number)\n",
    "        else:\n",
    "            new_phone_number = pattern.sub(r\"+7(\\2)\\3-\\4-\\5 доб.\\7\", phone_number)\n",
    "    \n",
    "    print(new_phone_number)"
   ]
  },
  {
   "cell_type": "code",
   "execution_count": 5,
   "metadata": {},
   "outputs": [
    {
     "name": "stdout",
     "output_type": "stream",
     "text": [
      "Введите номер телефона: +7 955 555 55 55\n",
      "+7(955)555-55-55\n"
     ]
    }
   ],
   "source": [
    "phone_number = input('Введите номер телефона: ')\n",
    "replace_telephone_number(phone_number)"
   ]
  }
 ],
 "metadata": {
  "kernelspec": {
   "display_name": "Python 3",
   "language": "python",
   "name": "python3"
  },
  "language_info": {
   "codemirror_mode": {
    "name": "ipython",
    "version": 3
   },
   "file_extension": ".py",
   "mimetype": "text/x-python",
   "name": "python",
   "nbconvert_exporter": "python",
   "pygments_lexer": "ipython3",
   "version": "3.6.5"
  }
 },
 "nbformat": 4,
 "nbformat_minor": 2
}
