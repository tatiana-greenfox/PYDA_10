{
 "cells": [
  {
   "cell_type": "markdown",
   "metadata": {},
   "source": [
    "# Домашнее задание\n",
    "1. Переведите содержимое файла purchase_log.txt в словарь purchases вида:\n",
    "```python\n",
    "{'1840e0b9d4': 'Продукты', ...}\n",
    "```\n",
    "\n",
    "2. Для каждого user_id в файле visit_log.csv определите третий столбец с категорией покупки (если покупка была, сам файл visit_log.csv изменять не надо). Запишите в файл funnel.csv визиты из файла visit_log.csv, в которых были покупки с указанием категории.\n",
    "\n",
    "Учтите условия на данные:\n",
    "- содержимое purchase_log.txt помещается в оперативную память компьютера\n",
    "- содержимое visit_log.csv - нет; используйте только построчную обработку этого файла"
   ]
  },
  {
   "cell_type": "code",
   "execution_count": 9,
   "metadata": {},
   "outputs": [],
   "source": [
    "import json\n",
    "import csv    "
   ]
  },
  {
   "cell_type": "code",
   "execution_count": 10,
   "metadata": {},
   "outputs": [],
   "source": [
    "def read_purchase_log(path = 'files/purchase_log_mini.txt'):\n",
    "    purchase_log_list = []\n",
    "\n",
    "    with open(path, 'r', encoding='utf-8') as purchase_log:\n",
    "        for line in purchase_log:\n",
    "            line_dict = json.loads(line)\n",
    "            purchase_log_list.append(line_dict)\n",
    "        \n",
    "    purchase_log_list.pop(0)\n",
    "\n",
    "    purchases = {}\n",
    "\n",
    "    for category_dict in purchase_log_list:\n",
    "        for key,value in category_dict.items():\n",
    "            purchases.setdefault(category_dict[\"user_id\"], category_dict[\"category\"]) \n",
    "\n",
    "    return purchases"
   ]
  },
  {
   "cell_type": "code",
   "execution_count": 11,
   "metadata": {},
   "outputs": [],
   "source": [
    "def read_visit_log(path = 'files/visit_log_mini.csv'):\n",
    "    visit_log_list = []\n",
    "\n",
    "    with open (path, 'r', encoding='utf-8') as visit_log:\n",
    "        reader = csv.reader(visit_log)\n",
    "        for row in reader:\n",
    "            visit_log_list.append(row)\n",
    "\n",
    "    visit_log_list.pop(0)\n",
    "\n",
    "    return visit_log_list"
   ]
  },
  {
   "cell_type": "code",
   "execution_count": 12,
   "metadata": {},
   "outputs": [],
   "source": [
    "def writer_funnel_file(path):\n",
    "    purchases = read_purchase_log()\n",
    "    visit_logs = read_visit_log()\n",
    "    result_list = [['user_id', 'source', 'category']]\n",
    "\n",
    "    for key, value in purchases.items():\n",
    "        for val in visit_logs:\n",
    "            if key == val[0]:\n",
    "                val.append(value)\n",
    "                result_list.append(val)\n",
    "\n",
    "    with open(path, 'w', encoding='utf-8') as funnel:\n",
    "        writer = csv.writer(funnel)\n",
    "\n",
    "        for value in result_list:\n",
    "            writer.writerow(value)"
   ]
  },
  {
   "cell_type": "code",
   "execution_count": 13,
   "metadata": {},
   "outputs": [
    {
     "name": "stdout",
     "output_type": "stream",
     "text": [
      "Запись успешно завершена!\n"
     ]
    }
   ],
   "source": [
    "writer_funnel_file('files/funnel.csv')\n",
    "print('Запись успешно завершена!')"
   ]
  }
 ],
 "metadata": {
  "kernelspec": {
   "display_name": "Python 3",
   "language": "python",
   "name": "python3"
  },
  "language_info": {
   "codemirror_mode": {
    "name": "ipython",
    "version": 3
   },
   "file_extension": ".py",
   "mimetype": "text/x-python",
   "name": "python",
   "nbconvert_exporter": "python",
   "pygments_lexer": "ipython3",
   "version": "3.6.5"
  }
 },
 "nbformat": 4,
 "nbformat_minor": 2
}
