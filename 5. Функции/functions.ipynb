{
 "cells": [
  {
   "cell_type": "markdown",
   "metadata": {},
   "source": [
    "Вы работаете секретарем и вам постоянно приходят различные документы. Вы должны быть очень внимательны, чтобы не потерять ни один документ. Каталог документов хранится в следующем виде:"
   ]
  },
  {
   "cell_type": "code",
   "execution_count": 1,
   "metadata": {},
   "outputs": [],
   "source": [
    "documents = [\n",
    "    {'type': 'passport', 'number': '2207 876234', 'name': 'Василий Гупкин'},\n",
    "    {'type': 'invoice', 'number': '11-2', 'name': 'Геннадий Покемонов'},\n",
    "    {'type': 'insurance', 'number': '10006', 'name': 'Аристарх Павлов'}\n",
    "]"
   ]
  },
  {
   "cell_type": "markdown",
   "metadata": {},
   "source": [
    "Перечень полок, на которых находятся документы хранится в следующем виде:"
   ]
  },
  {
   "cell_type": "code",
   "execution_count": 2,
   "metadata": {},
   "outputs": [],
   "source": [
    "directories = {\n",
    "    '1': ['2207 876234', '11-2'],\n",
    "    '2': ['10006'],\n",
    "    '3': []\n",
    "}"
   ]
  },
  {
   "cell_type": "markdown",
   "metadata": {},
   "source": [
    "Необходимо реализовать пользовательские команды (внимание! это не название функций, которые должны быть выразительными, а команды, которые вводит пользователь, чтобы получить необходимый результат):\n",
    "  \n",
    "- p – people – команда, которая спросит номер документа и выведет имя человека, которому он принадлежит;  \n",
    "- s – shelf – команда, которая спросит номер документа и выведет номер полки, на которой он находится  \n",
    "*Правильно обработайте ситуации, когда пользователь будет вводить несуществующий документ*.\n",
    "- l – list – команда, которая выведет список всех документов в формате   \n",
    "**passport \"2207 876234\" \"Василий Гупкин\"**  \n",
    "- as – add shelf – команда, которая спросит номер новой полки и добавит ее в перечень. *Предусмотрите случай, когда пользователь добавляет полку, которая уже существует*.\n",
    "- d – delete – команда, которая спросит номер документа и удалит его из каталога и из перечня полок. *Предусмотрите сценарий, когда пользователь вводит несуществующий документ*;  \n",
    "- m – move – команда, которая спросит номер документа и целевую полку и переместит его с текущей полки на целевую. *Корректно обработайте кейсы, когда пользователь пытается переместить несуществующий документ или переместить документ на несуществующую полку*;  \n",
    "- a – add – команда, которая добавит новый документ в каталог и в перечень полок, спросив его номер, тип, имя владельца и номер полки, на котором он будет храниться. *Корректно обработайте ситуацию, когда пользователь будет пытаться добавить документ на несуществующую полку*."
   ]
  },
  {
   "cell_type": "code",
   "execution_count": 3,
   "metadata": {},
   "outputs": [],
   "source": [
    "#Функция поиска владельца документа по номеру\n",
    "def get_name_person(document_catalog):\n",
    "  number_document = input('Введите номер документа: ')\n",
    "\n",
    "  document_dict = {}\n",
    "  result = 0  \n",
    "  \n",
    "  for document in document_catalog:  \n",
    "    if document['number'] == number_document:\n",
    "      document_dict = document\n",
    "      result = 1\n",
    "\n",
    "  if result == 0:\n",
    "    print('Номер документа не найден!')\n",
    "    get_name_person(document_catalog)\n",
    "  else:\n",
    "    print(f\"По введенному вами документу найден: {document_dict['name']}\")"
   ]
  },
  {
   "cell_type": "code",
   "execution_count": 4,
   "metadata": {},
   "outputs": [],
   "source": [
    "#Функция вывода всех документа в виде списка   \n",
    "def get_list_document(document_catalog):\n",
    "  for document in document_catalog:\n",
    "    document_list = []\n",
    "\n",
    "    for value in document.values():\n",
    "      document_list.append(value)\n",
    "    print(f'{document_list[0]} \"{document_list[1]}\" \"{document_list[2]}\"')"
   ]
  },
  {
   "cell_type": "code",
   "execution_count": 5,
   "metadata": {},
   "outputs": [],
   "source": [
    "#Функция поиска номера полки, на которой лежит документ по его номеру\n",
    "def get_number_shelf(directori_catalog):\n",
    "  number_document = input('Введите номер документа: ')\n",
    "  number_shelf = 0\n",
    "  result = 0 \n",
    "\n",
    "  for key, values in directori_catalog.items():\n",
    "    for number in values:\n",
    "      if number == number_document:\n",
    "        number_shelf = key\n",
    "        result = 1\n",
    "\n",
    "  if result == 0:\n",
    "    print('Номер документа не найден!')\n",
    "    get_number_shelf(directori_catalog)\n",
    "  else:\n",
    "    print(f\"Документ {number_document} находится на полке номер {number_shelf}\")"
   ]
  },
  {
   "cell_type": "code",
   "execution_count": 6,
   "metadata": {},
   "outputs": [],
   "source": [
    "#Функция создания нового документа и добавления его данных в соответствующие каталоги \n",
    "def add_new_document(document_catalog , directori_catalog): \n",
    "  new_document_type = input('Введите тип документа: ')\n",
    "  new_document_number = input('Введите номер документа: ')\n",
    "  new_name = input('Введите имя владельца документа: ')\n",
    "  number_shelf = input('Введите номер полки, на которой будет храниться документ: ')\n",
    "\n",
    "  document_dict = {}\n",
    "  result = 0\n",
    "\n",
    "  print()\n",
    "\n",
    "  #Добавление пользовательских данных в список документов\n",
    "  for document in document_catalog:\n",
    "    if new_document_number != document['number']:\n",
    "      document_dict = document_dict.fromkeys(document)\n",
    "      document_dict['type'] = new_document_type\n",
    "      document_dict['number'] = new_document_number\n",
    "      document_dict['name'] = new_name\n",
    "  document_catalog.append(document_dict)\n",
    "\n",
    "  #Добавление номера нового документа на введенную пользователем полку\n",
    "  for key, value in directori_catalog.items():\n",
    "      if key == number_shelf:\n",
    "        value.append(new_document_number)\n",
    "        result = 1    \n",
    "  \n",
    "  if result == 0:\n",
    "    print('Документ не может быть сохранен, тк полки с таким номером в каталоге нет!')\n",
    "  else:\n",
    "    print('Введенные вами данные успешно сохранены! Документ добавлен в картотеку!\\n')\n",
    "    print(document_catalog , '\\n')\n",
    "\n",
    "    print(f\"Документ c номером {new_document_number} успешно добавлен на полку {number_shelf}\\n\")\n",
    "    print(directori_catalog)"
   ]
  },
  {
   "cell_type": "code",
   "execution_count": 7,
   "metadata": {},
   "outputs": [],
   "source": [
    "#Функция удаления документа из базы \n",
    "def delete_document(document_catalog , directori_catalog):\n",
    "  number_document = input('Введите номер документа: ')\n",
    "  result = 0 \n",
    "\n",
    "  #Удаление документа из каталога\n",
    "  for document in document_catalog:\n",
    "    if document['number'] == number_document:\n",
    "      document.clear()\n",
    "      document_catalog.remove(document)\n",
    "      result = 1\n",
    "   \n",
    "  #Удаление номера документа из каталога с номерами полок\n",
    "  number_shelf = 0\n",
    "\n",
    "  for key, values in directori_catalog.items():\n",
    "    for number in values:\n",
    "      if number == number_document:\n",
    "        values.remove(number)\n",
    "        number_shelf = key\n",
    "        result = 1\n",
    "\n",
    "  if result == 0:\n",
    "    print('Номер документа не найден!')\n",
    "    delete_document(document_catalog , directori_catalog)\n",
    "  else:\n",
    "    print(f\"Документ под номером {number_document} был успешно удален из каталога\\n\")\n",
    "    print(document_catalog , '\\n')\n",
    "\n",
    "    print(f\"Документ под номером {number_document} был успешно удален с полки {number_shelf}\\n\")\n",
    "    print(directori_catalog)"
   ]
  },
  {
   "cell_type": "code",
   "execution_count": 8,
   "metadata": {},
   "outputs": [],
   "source": [
    "#Функция создания новой полки\n",
    "def add_new_shelf(directori_catalog, number_shelf):\n",
    "  new_directori_catalog = {}\n",
    "\n",
    "  for key in directori_catalog.keys():\n",
    "    if key != number_shelf:\n",
    "      new_directori_catalog = directori_catalog\n",
    "  new_directori_catalog.setdefault(number_shelf)\n",
    "  new_directori_catalog[number_shelf] = []\n",
    "  print(f\"Новая полка успешно добавлена в перечень {new_directori_catalog}\")"
   ]
  },
  {
   "cell_type": "code",
   "execution_count": 9,
   "metadata": {},
   "outputs": [],
   "source": [
    "#Функция перемещения документа с полки на полку\n",
    "def move_document(directori_catalog):\n",
    "  number_document = input('Введите номер документа: ')\n",
    "  number_shelf_on = input('Введите номер полки: ')\n",
    "  number_shelf_off = 0 \n",
    "  result = 0\n",
    "\n",
    "  for key, values in directori_catalog.items():\n",
    "    for number in values:\n",
    "      if number == number_document:\n",
    "        values.remove(number)\n",
    "        number_shelf_off = key \n",
    "        result = 1\n",
    "\n",
    "  if result == 0:\n",
    "    print('Номер документа не найден!')\n",
    "  else:\n",
    "    add_new_shelf(directori_catalog , number_shelf_on)\n",
    "    directori_catalog[number_shelf_on].append(number_document)\n",
    "\n",
    "    print(f\"Документ под номером {number_document} был успешно перемещен с полки {number_shelf_off} на полку {number_shelf_on}\\n\")\n",
    "    print(directori_catalog)"
   ]
  },
  {
   "cell_type": "code",
   "execution_count": 10,
   "metadata": {},
   "outputs": [],
   "source": [
    "def run_instruction():\n",
    "  while True:\n",
    "    instruction = input('Введите инструкцию: ')\n",
    "\n",
    "    if (instruction == 'p') or (instruction == 'people'):\n",
    "      get_name_person(documents)\n",
    "      print()\n",
    "    elif (instruction == 'l') or (instruction == 'list'):\n",
    "      get_list_document(documents)\n",
    "      print()\n",
    "    elif (instruction == 's') or (instruction == 'shelf'):\n",
    "      get_number_shelf(directories)\n",
    "      print()\n",
    "    elif (instruction == 'a') or (instruction == 'add'):\n",
    "      add_new_document(documents, directories)\n",
    "      print()\n",
    "    elif (instruction == 'd') or (instruction == 'delete'):\n",
    "      delete_document(documents, directories)\n",
    "      print()\n",
    "    elif (instruction == 'as'):\n",
    "      add_new_shelf(directories , input('Введите номер полки: '))\n",
    "      print()\n",
    "    elif (instruction == 'm') or (instruction == 'move'):\n",
    "      move_document(directories)\n",
    "      print()\n",
    "    elif (instruction == 'e') or (instruction == 'exit'):\n",
    "      print('Спасибо за использование нашей программы! До свидания!')\n",
    "      break"
   ]
  },
  {
   "cell_type": "code",
   "execution_count": 12,
   "metadata": {},
   "outputs": [
    {
     "name": "stdout",
     "output_type": "stream",
     "text": [
      "\n",
      "  --- Инструкция для работы с программой \"Секретарь\" ---\n",
      "\n",
      "  - Для получения имени человека по номеру документа, введите \"p\" или \"people\";\n",
      "  - Для получения информации по всем документам в виде списка, введите \"l\" или \"list\";\n",
      "  - Для получения информации о местонахождении документа, введите \"s\" или \"shelf\";\n",
      "  - Для создания нового документа и добавления его в картотеку, введите \"a\" или \"add\";\n",
      "  - Для удаления документа из всей картотеки, введите \"d\" или \"delete\"; \n",
      "  - Для создания новой полки, введите \"as\"; \n",
      "  - Для перемещения документа с одной полки на другую, введите \"m\" или \"move\";\n",
      "  - Для выхода из программы, введите \"e\" или \"exit\".\n",
      "  \n",
      "Введите инструкцию: p\n",
      "Введите номер документа: 11-2\n",
      "По введенному вами документу найден: Геннадий Покемонов\n",
      "\n",
      "Введите инструкцию: e\n",
      "Спасибо за использование нашей программы! До свидания!\n"
     ]
    }
   ],
   "source": [
    "if __name__ == \"__main__\":\n",
    "  info = '''\n",
    "  --- Инструкция для работы с программой \"Секретарь\" ---\n",
    "\n",
    "  - Для получения имени человека по номеру документа, введите \"p\" или \"people\";\n",
    "  - Для получения информации по всем документам в виде списка, введите \"l\" или \"list\";\n",
    "  - Для получения информации о местонахождении документа, введите \"s\" или \"shelf\";\n",
    "  - Для создания нового документа и добавления его в картотеку, введите \"a\" или \"add\";\n",
    "  - Для удаления документа из всей картотеки, введите \"d\" или \"delete\"; \n",
    "  - Для создания новой полки, введите \"as\"; \n",
    "  - Для перемещения документа с одной полки на другую, введите \"m\" или \"move\";\n",
    "  - Для выхода из программы, введите \"e\" или \"exit\".\n",
    "  '''\n",
    "  print(info)\n",
    "\n",
    "  run_instruction()"
   ]
  },
  {
   "cell_type": "code",
   "execution_count": null,
   "metadata": {},
   "outputs": [],
   "source": []
  }
 ],
 "metadata": {
  "kernelspec": {
   "display_name": "Python 3",
   "language": "python",
   "name": "python3"
  },
  "language_info": {
   "codemirror_mode": {
    "name": "ipython",
    "version": 3
   },
   "file_extension": ".py",
   "mimetype": "text/x-python",
   "name": "python",
   "nbconvert_exporter": "python",
   "pygments_lexer": "ipython3",
   "version": "3.6.5"
  }
 },
 "nbformat": 4,
 "nbformat_minor": 2
}
